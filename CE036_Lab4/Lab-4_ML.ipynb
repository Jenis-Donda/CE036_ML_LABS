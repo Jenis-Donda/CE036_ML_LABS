{
  "cells": [
    {
      "cell_type": "code",
      "execution_count": 1,
      "metadata": {
        "id": "lum8LHdO4Rh7"
      },
      "outputs": [],
      "source": [
        "import numpy as np\n",
        "import torch"
      ]
    },
    {
      "cell_type": "code",
      "execution_count": 2,
      "metadata": {
        "id": "ed1hX-Cq4b8g"
      },
      "outputs": [],
      "source": [
        "inputs = np.array([[73,67,43],\n",
        "                   [91,88,64],\n",
        "                   [87,134,58],\n",
        "                   [102,43,37],\n",
        "                   [69,96,70]],dtype='float32')"
      ]
    },
    {
      "cell_type": "code",
      "execution_count": 3,
      "metadata": {
        "id": "xNvmHAFY45TV"
      },
      "outputs": [],
      "source": [
        "targets = np.array([[56],\n",
        "                    [81],\n",
        "                    [119],\n",
        "                    [22],\n",
        "                    [103]],dtype='float32')"
      ]
    },
    {
      "cell_type": "code",
      "execution_count": 4,
      "metadata": {
        "colab": {
          "base_uri": "https://localhost:8080/"
        },
        "id": "DzD7oU6k5Pmn",
        "outputId": "3c326c66-6a3c-41fa-b0b6-b5a6fe0509b1"
      },
      "outputs": [
        {
          "output_type": "stream",
          "name": "stdout",
          "text": [
            "tensor([[ 73.,  67.,  43.],\n",
            "        [ 91.,  88.,  64.],\n",
            "        [ 87., 134.,  58.],\n",
            "        [102.,  43.,  37.],\n",
            "        [ 69.,  96.,  70.]])\n",
            "tensor([[ 56.],\n",
            "        [ 81.],\n",
            "        [119.],\n",
            "        [ 22.],\n",
            "        [103.]])\n"
          ]
        }
      ],
      "source": [
        " # Convert inputs and targets to tensors\n",
        "inputs = torch.from_numpy(inputs)\n",
        "print(inputs)\n",
        "targets = torch.from_numpy(targets)\n",
        "print(targets)"
      ]
    },
    {
      "cell_type": "code",
      "execution_count": 5,
      "metadata": {
        "colab": {
          "base_uri": "https://localhost:8080/"
        },
        "id": "EzffvUCE5ukf",
        "outputId": "7d86617b-a956-4d91-e9db-f07f5bf47c56"
      },
      "outputs": [
        {
          "output_type": "stream",
          "name": "stdout",
          "text": [
            "tensor([[0.9371, 0.1617, 1.7898]], requires_grad=True)\n",
            "tensor([1.1184], requires_grad=True)\n"
          ]
        }
      ],
      "source": [
        " # Weights and biases\n",
        "w = torch.randn(1,3,requires_grad =True)\n",
        "print(w)\n",
        "b = torch.randn(1,requires_grad=True)\n",
        "print(b)"
      ]
    },
    {
      "cell_type": "code",
      "execution_count": 6,
      "metadata": {
        "id": "LBA7m1gF6ODF"
      },
      "outputs": [],
      "source": [
        "# Define the model\n",
        "def model(x):\n",
        "  return torch.mm(x,w.t(),out=None) +b"
      ]
    },
    {
      "cell_type": "code",
      "execution_count": 7,
      "metadata": {
        "colab": {
          "base_uri": "https://localhost:8080/"
        },
        "id": "JXT8Ochr61uo",
        "outputId": "8c067891-86ab-4fd9-b733-e52d81622093"
      },
      "outputs": [
        {
          "output_type": "stream",
          "name": "stdout",
          "text": [
            "Prediction : tensor([[157.3220],\n",
            "        [215.1714],\n",
            "        [208.1202],\n",
            "        [169.8797],\n",
            "        [206.5870]], grad_fn=<AddBackward0>)\n",
            "Targets : tensor([[ 56.],\n",
            "        [ 81.],\n",
            "        [119.],\n",
            "        [ 22.],\n",
            "        [103.]])\n"
          ]
        }
      ],
      "source": [
        "# Generate predictions\n",
        "# Compare with targets\n",
        "\n",
        "preds = model(inputs)\n",
        "print(\"Prediction :\",preds)\n",
        "print(\"Targets :\",targets)"
      ]
    },
    {
      "cell_type": "code",
      "execution_count": 8,
      "metadata": {
        "colab": {
          "base_uri": "https://localhost:8080/"
        },
        "id": "_uVgspIP7AI7",
        "outputId": "61d3b05d-d3c1-47e1-ba55-5b93733ac05e"
      },
      "outputs": [
        {
          "output_type": "stream",
          "name": "stdout",
          "text": [
            "Loss : tensor([13761.8389], grad_fn=<DivBackward0>)\n"
          ]
        }
      ],
      "source": [
        "# MSE loss\n",
        "# Compute loss\n",
        "def mse(P,T):\n",
        "  diff = 0\n",
        "  i=0\n",
        "  sum=0\n",
        "  n=len(T)\n",
        "  for k in range(0,n):\n",
        "    i+=1\n",
        "    diff = T[k] - P[k]\n",
        "    square = diff*diff\n",
        "    sum+=square\n",
        "  mean = sum/i\n",
        "  return mean\n",
        "\n",
        "output = mse(preds,targets)\n",
        "print(\"Loss :\",output)"
      ]
    },
    {
      "cell_type": "code",
      "execution_count": 9,
      "metadata": {
        "colab": {
          "base_uri": "https://localhost:8080/"
        },
        "id": "zhP25JdN7GpC",
        "outputId": "dd3cd86f-d840-4937-d421-0d1b8b5c44fe"
      },
      "outputs": [
        {
          "output_type": "stream",
          "name": "stdout",
          "text": [
            "Gradient : None\n"
          ]
        }
      ],
      "source": [
        "# Compute gradients\n",
        "print(\"Gradient :\",output.backward())"
      ]
    },
    {
      "cell_type": "code",
      "execution_count": 10,
      "metadata": {
        "colab": {
          "base_uri": "https://localhost:8080/"
        },
        "id": "Puet6cDt7Icp",
        "outputId": "05b459fc-7297-41be-9117-6d7cc5b681dd"
      },
      "outputs": [
        {
          "output_type": "stream",
          "name": "stdout",
          "text": [
            "tensor([[0.9371, 0.1617, 1.7898]], requires_grad=True)\n",
            "tensor([[19836.3184, 18736.3789, 12334.1719]])\n"
          ]
        }
      ],
      "source": [
        "# Gradients for weights\n",
        "print(w)\n",
        "print(w.grad)"
      ]
    },
    {
      "cell_type": "code",
      "execution_count": 11,
      "metadata": {
        "colab": {
          "base_uri": "https://localhost:8080/"
        },
        "id": "EMmQR2DM7KM-",
        "outputId": "a6b9f79c-9204-4b3f-9da0-65ed0c307b33"
      },
      "outputs": [
        {
          "output_type": "stream",
          "name": "stdout",
          "text": [
            "tensor([1.1184], requires_grad=True)\n",
            "tensor([230.4321])\n"
          ]
        }
      ],
      "source": [
        "# Gradients for bias\n",
        "print(b)\n",
        "print(b.grad)"
      ]
    },
    {
      "cell_type": "code",
      "execution_count": 12,
      "metadata": {
        "colab": {
          "base_uri": "https://localhost:8080/"
        },
        "id": "FwJb3C6m7MqF",
        "outputId": "92e7d535-ec9c-4378-f814-a281396a8fa7"
      },
      "outputs": [
        {
          "output_type": "stream",
          "name": "stdout",
          "text": [
            "tensor([[ 0.7388, -0.0257,  1.6665]], requires_grad=True)\n",
            "tensor([1.1161], requires_grad=True)\n"
          ]
        }
      ],
      "source": [
        "# Compute gradients\n",
        "with torch.no_grad():\n",
        "  w-=w.grad*1e-5\n",
        "  b-=b.grad*1e-5\n",
        "  w.grad.zero_()\n",
        "  b.grad.zero_()\n",
        "print(w)\n",
        "print(b)"
      ]
    },
    {
      "cell_type": "code",
      "execution_count": 13,
      "metadata": {
        "colab": {
          "base_uri": "https://localhost:8080/"
        },
        "id": "kn7ACAEE7PbU",
        "outputId": "db3fba02-6eb9-4d7a-c282-ba7300c2af9f"
      },
      "outputs": [
        {
          "output_type": "stream",
          "name": "stdout",
          "text": [
            "New Loss : tensor([6395.3364], grad_fn=<DivBackward0>)\n"
          ]
        }
      ],
      "source": [
        "# Generate predictions\n",
        "# Calculate the loss\n",
        "new_preds = model(inputs)\n",
        "new_loss = mse(new_preds,targets)\n",
        "print(\"New Loss :\",new_loss)"
      ]
    },
    {
      "cell_type": "code",
      "execution_count": 14,
      "metadata": {
        "id": "ynlbdHwE7a4x"
      },
      "outputs": [],
      "source": [
        "# Train for 100 epochs\n",
        "for i in range(200):\n",
        "  preds = model(inputs)\n",
        "  loss = mse(preds,targets)\n",
        "  loss.backward()\n",
        "  with torch.no_grad():\n",
        "    w-=w.grad * 1e-5\n",
        "    b-=b.grad * 1e-5\n",
        "    w.grad.zero_()\n",
        "    b.grad.zero_()"
      ]
    },
    {
      "cell_type": "code",
      "execution_count": 15,
      "metadata": {
        "colab": {
          "base_uri": "https://localhost:8080/"
        },
        "id": "QM9MkE147dcw",
        "outputId": "6781ef0a-8ef2-4c14-ffe9-82d4f357c4d8"
      },
      "outputs": [
        {
          "output_type": "stream",
          "name": "stdout",
          "text": [
            "tensor([48.7851], grad_fn=<DivBackward0>)\n"
          ]
        }
      ],
      "source": [
        "# Calculate loss\n",
        "preds = model(inputs)\n",
        "loss = mse(preds,targets)\n",
        "print(loss)"
      ]
    },
    {
      "cell_type": "markdown",
      "metadata": {
        "id": "GBr2WWv2AWw9"
      },
      "source": [
        "Pytorch_Built_Ins"
      ]
    },
    {
      "cell_type": "code",
      "execution_count": 16,
      "metadata": {
        "colab": {
          "base_uri": "https://localhost:8080/"
        },
        "id": "WCpFL_uKAdfM",
        "outputId": "ff2a59e3-f6f0-4020-f1d6-7e9824c0800e"
      },
      "outputs": [
        {
          "output_type": "stream",
          "name": "stdout",
          "text": [
            "tensor([[ 73.,  67.,  43.],\n",
            "        [ 91.,  88.,  64.],\n",
            "        [ 87., 134.,  58.],\n",
            "        [102.,  43.,  37.],\n",
            "        [ 69.,  96.,  70.]])\n",
            "tensor([[ 56.],\n",
            "        [ 81.],\n",
            "        [119.],\n",
            "        [ 22.],\n",
            "        [103.]])\n"
          ]
        }
      ],
      "source": [
        " # Imports\n",
        "import torch.nn as nn\n",
        "print(inputs)\n",
        "print(targets)\n"
      ]
    },
    {
      "cell_type": "code",
      "execution_count": 17,
      "metadata": {
        "id": "rbKYPrWhAjXR"
      },
      "outputs": [],
      "source": [
        "def model1(x):\n",
        "  return x @ w.t() +b"
      ]
    },
    {
      "cell_type": "code",
      "execution_count": 18,
      "metadata": {
        "colab": {
          "base_uri": "https://localhost:8080/"
        },
        "id": "8qej8ijpA2-_",
        "outputId": "32cd0d47-97c9-4c3f-cf77-c10f7b5a6792"
      },
      "outputs": [
        {
          "output_type": "stream",
          "name": "stdout",
          "text": [
            "Prediction : tensor([[ 57.6498],\n",
            "        [ 87.2404],\n",
            "        [106.4697],\n",
            "        [ 23.2996],\n",
            "        [109.6002]], grad_fn=<AddBackward0>)\n",
            "Targets : tensor([[ 56.],\n",
            "        [ 81.],\n",
            "        [119.],\n",
            "        [ 22.],\n",
            "        [103.]])\n"
          ]
        }
      ],
      "source": [
        "preds = model(inputs)\n",
        "print(\"Prediction :\",preds)\n",
        "print(\"Targets :\",targets)"
      ]
    },
    {
      "cell_type": "code",
      "execution_count": 19,
      "metadata": {
        "colab": {
          "base_uri": "https://localhost:8080/"
        },
        "id": "zeaJOgCddJy4",
        "outputId": "c4d69501-cdd4-479b-dd41-c02ea2ef5542"
      },
      "outputs": [
        {
          "output_type": "stream",
          "name": "stdout",
          "text": [
            "Loss : tensor(48.7851, grad_fn=<MseLossBackward0>)\n"
          ]
        }
      ],
      "source": [
        "loss = nn.MSELoss()\n",
        "output = loss(preds,targets)\n",
        "output.backward()\n",
        "print(\"Loss :\",output)"
      ]
    },
    {
      "cell_type": "code",
      "execution_count": 20,
      "metadata": {
        "colab": {
          "base_uri": "https://localhost:8080/"
        },
        "id": "JSlZ5RPMdip3",
        "outputId": "104c6031-6277-4e1e-8e80-247bdb488bac"
      },
      "outputs": [
        {
          "output_type": "stream",
          "name": "stdout",
          "text": [
            "tensor([[-0.4723,  0.5428,  1.2712]], requires_grad=True)\n",
            "tensor([[  74.4594, -131.9480,  101.4671]])\n",
            "tensor([1.1040], requires_grad=True)\n",
            "tensor([1.3039])\n"
          ]
        }
      ],
      "source": [
        "print(w)\n",
        "print(w.grad)\n",
        "print(b)\n",
        "print(b.grad)"
      ]
    },
    {
      "cell_type": "code",
      "execution_count": 21,
      "metadata": {
        "id": "KkTVnJ4ugGBv"
      },
      "outputs": [],
      "source": [
        "for i in range(100):\n",
        "    preds = model(inputs)\n",
        "    loss = mse(preds, targets)\n",
        "    loss.backward()\n",
        "    with torch.no_grad():\n",
        "        w -= w.grad * 1e-5\n",
        "        b -= b.grad * 1e-5\n",
        "        w.grad.zero_()\n",
        "        b.grad.zero_()"
      ]
    },
    {
      "cell_type": "code",
      "execution_count": 22,
      "metadata": {
        "colab": {
          "base_uri": "https://localhost:8080/"
        },
        "id": "AmeCzNBLdsm5",
        "outputId": "9586a943-06e5-41ed-8a63-3e134e548a1b"
      },
      "outputs": [
        {
          "output_type": "stream",
          "name": "stdout",
          "text": [
            "tensor([29.4179], grad_fn=<DivBackward0>)\n"
          ]
        }
      ],
      "source": [
        "preds = model1(inputs)\n",
        "loss = mse(preds,targets)\n",
        " \n",
        "print(loss)"
      ]
    },
    {
      "cell_type": "code",
      "execution_count": 22,
      "metadata": {
        "id": "xGY4Y3kgfW21"
      },
      "outputs": [],
      "source": []
    }
  ],
  "metadata": {
    "colab": {
      "provenance": []
    },
    "kernelspec": {
      "display_name": "Python 3",
      "language": "python",
      "name": "python3"
    },
    "language_info": {
      "name": "python",
      "version": "3.9.13"
    },
    "vscode": {
      "interpreter": {
        "hash": "09b5316b3b1b80ab86873d46928ffa5c6d0739e55e81b496cac8770bce58856a"
      }
    }
  },
  "nbformat": 4,
  "nbformat_minor": 0
}
